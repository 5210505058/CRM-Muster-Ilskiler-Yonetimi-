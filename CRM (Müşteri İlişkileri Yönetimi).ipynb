{
  "cells": [
    {
      "cell_type": "code",
      "execution_count": null,
      "metadata": {
        "id": "IZw0slQJQ2A5"
      },
      "outputs": [],
      "source": []
    },
    {
      "cell_type": "code",
      "execution_count": null,
      "metadata": {
        "colab": {
          "base_uri": "https://localhost:8080/"
        },
        "id": "GEpc1REVQ5n5",
        "outputId": "15e13582-afc5-4c63-fc8c-ad30341d4732"
      },
      "outputs": [
        {
          "name": "stdout",
          "output_type": "stream",
          "text": [
            "Maksimum müşteri memnuniyeti: 23\n",
            "Maksimum yatırım getirisi (ROI): 11\n"
          ]
        }
      ],
      "source": [
        "def max_satisfaction(customers, representatives, satisfaction_matrix):\n",
        "    n = len(customers)  \n",
        "    m = len(representatives)  \n",
        "\n",
        "    \n",
        "    dp = [[0] * (m + 1) for _ in range(n + 1)]\n",
        "\n",
        "    \n",
        "    for i in range(1, n + 1):\n",
        "        for j in range(1, m + 1):\n",
        "            dp[i][j] = max(dp[i-1][k] + satisfaction_matrix[i-1][j-1] for k in range(m))\n",
        "\n",
        "    return max(dp[n])\n",
        "\n",
        "def max_roi(campaigns, budget):\n",
        "    n = len(campaigns)\n",
        "    dp = [[0] * (budget + 1) for _ in range(n + 1)]\n",
        "\n",
        "    for i in range(1, n + 1):\n",
        "        cost, roi = campaigns[i-1]\n",
        "        for b in range(budget + 1):\n",
        "            if cost > b:\n",
        "                dp[i][b] = dp[i-1][b]  \n",
        "            else:\n",
        "                dp[i][b] = max(dp[i-1][b], dp[i-1][b-cost] + roi)  \n",
        "\n",
        "    return dp[n][budget]\n",
        "\n",
        "\n",
        "customers = [\"A\", \"B\", \"C\"]\n",
        "representatives = [\"X\", \"Y\"]\n",
        "satisfaction_matrix = [\n",
        "    [8, 6],  \n",
        "    [7, 9],  \n",
        "    [5, 8]   \n",
        "]\n",
        "\n",
        "campaigns = [(3, 5), (2, 3), (5, 8), (4, 6)]\n",
        "budget = 7\n",
        "\n",
        "max_satisfaction_value = max_satisfaction(customers, representatives, satisfaction_matrix)\n",
        "max_roi_value = max_roi(campaigns, budget)\n",
        "\n",
        "print(\"Maksimum müşteri memnuniyeti:\", max_satisfaction_value)\n",
        "print(\"Maksimum yatırım getirisi (ROI):\", max_roi_value)"
      ]
    }
  ],
  "metadata": {
    "colab": {
      "provenance": []
    },
    "kernelspec": {
      "display_name": "Python 3",
      "name": "python3"
    },
    "language_info": {
      "name": "python"
    }
  },
  "nbformat": 4,
  "nbformat_minor": 0
}
