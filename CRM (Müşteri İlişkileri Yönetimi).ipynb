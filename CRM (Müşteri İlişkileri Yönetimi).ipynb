{
  "nbformat": 4,
  "nbformat_minor": 0,
  "metadata": {
    "colab": {
      "provenance": []
    },
    "kernelspec": {
      "name": "python3",
      "display_name": "Python 3"
    },
    "language_info": {
      "name": "python"
    }
  },
  "cells": [
    {
      "cell_type": "code",
      "execution_count": null,
      "metadata": {
        "id": "IZw0slQJQ2A5"
      },
      "outputs": [],
      "source": []
    },
    {
      "cell_type": "code",
      "source": [
        "def max_satisfaction(customers, representatives, satisfaction_matrix):\n",
        "    n = len(customers)  # Müşteri sayısı\n",
        "    m = len(representatives)  # Temsilci sayısı\n",
        "\n",
        "    # DP tablosu\n",
        "    dp = [[0] * (m + 1) for _ in range(n + 1)]\n",
        "\n",
        "    # Dinamik programlama tablosunu doldurma\n",
        "    for i in range(1, n + 1):\n",
        "        for j in range(1, m + 1):\n",
        "            dp[i][j] = max(dp[i-1][k] + satisfaction_matrix[i-1][j-1] for k in range(m))\n",
        "\n",
        "    return max(dp[n])\n",
        "\n",
        "def max_roi(campaigns, budget):\n",
        "    n = len(campaigns)\n",
        "    dp = [[0] * (budget + 1) for _ in range(n + 1)]\n",
        "\n",
        "    for i in range(1, n + 1):\n",
        "        cost, roi = campaigns[i-1]\n",
        "        for b in range(budget + 1):\n",
        "            if cost > b:\n",
        "                dp[i][b] = dp[i-1][b]  # Kampanyayı ekleyemiyoruz\n",
        "            else:\n",
        "                dp[i][b] = max(dp[i-1][b], dp[i-1][b-cost] + roi)  # Seçmeli miyiz?\n",
        "\n",
        "    return dp[n][budget]\n",
        "\n",
        "# Örnek veri\n",
        "customers = [\"A\", \"B\", \"C\"]\n",
        "representatives = [\"X\", \"Y\"]\n",
        "satisfaction_matrix = [\n",
        "    [8, 6],  # A müşterisinin X ve Y temsilcileri için memnuniyet değeri\n",
        "    [7, 9],  # B müşterisi\n",
        "    [5, 8]   # C müşterisi\n",
        "]\n",
        "\n",
        "campaigns = [(3, 5), (2, 3), (5, 8), (4, 6)]\n",
        "budget = 7\n",
        "\n",
        "max_satisfaction_value = max_satisfaction(customers, representatives, satisfaction_matrix)\n",
        "max_roi_value = max_roi(campaigns, budget)\n",
        "\n",
        "print(\"Maksimum müşteri memnuniyeti:\", max_satisfaction_value)\n",
        "print(\"Maksimum yatırım getirisi (ROI):\", max_roi_value)"
      ],
      "metadata": {
        "colab": {
          "base_uri": "https://localhost:8080/"
        },
        "id": "GEpc1REVQ5n5",
        "outputId": "15e13582-afc5-4c63-fc8c-ad30341d4732"
      },
      "execution_count": 3,
      "outputs": [
        {
          "output_type": "stream",
          "name": "stdout",
          "text": [
            "Maksimum müşteri memnuniyeti: 23\n",
            "Maksimum yatırım getirisi (ROI): 11\n"
          ]
        }
      ]
    }
  ]
}